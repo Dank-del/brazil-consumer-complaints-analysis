{
 "cells": [
  {
   "cell_type": "code",
   "execution_count": 26,
   "metadata": {},
   "outputs": [],
   "source": [
    "import os\n",
    "import pandas as pd\n",
    "from sklearn.model_selection import train_test_split\n",
    "from sklearn.preprocessing import LabelEncoder, StandardScaler\n",
    "from sklearn.linear_model import LogisticRegression\n",
    "from sklearn.metrics import classification_report\n",
    "import joblib\n"
   ]
  },
  {
   "cell_type": "code",
   "execution_count": 27,
   "metadata": {},
   "outputs": [],
   "source": [
    "folder_path = 'data/'  # Replace with the path to your folder\n",
    "\n",
    "# List all files in the folder\n",
    "file_list = os.listdir(folder_path)\n",
    "\n",
    "# Filter out CSV files\n",
    "csv_files = [file for file in file_list if file.endswith('.csv')]"
   ]
  },
  {
   "cell_type": "code",
   "execution_count": 28,
   "metadata": {},
   "outputs": [],
   "source": [
    "# Load and combine data from CSV files in the folder\n",
    "combined_data = pd.concat([pd.read_csv(os.path.join(folder_path, file), low_memory=False) for file in csv_files], ignore_index=True)"
   ]
  },
  {
   "cell_type": "code",
   "execution_count": 29,
   "metadata": {},
   "outputs": [],
   "source": [
    "# Preprocessing\n",
    "combined_data.drop(['AnoCalendario', 'DataArquivamento', 'NumeroCNPJ'], axis=1, inplace=True)\n",
    "combined_data.fillna(value={'SexoConsumidor': 'N/A', 'FaixaEtariaConsumidor': 'N/A'}, inplace=True)\n",
    "\n",
    "label_encoder = LabelEncoder()\n",
    "categorical_columns = ['CodigoRegiao', 'UF', 'Tipo', 'SexoConsumidor', 'FaixaEtariaConsumidor', 'DescCNAEPrincipal']\n",
    "for col in categorical_columns:\n",
    "    combined_data[col] = label_encoder.fit_transform(combined_data[col])\n",
    "\n",
    "features = ['CodigoRegiao', 'UF', 'Tipo', 'SexoConsumidor', 'FaixaEtariaConsumidor', 'DescCNAEPrincipal']\n",
    "label = 'Atendida'\n",
    "\n",
    "X = combined_data[features]\n",
    "y = combined_data[label]"
   ]
  },
  {
   "cell_type": "code",
   "execution_count": 30,
   "metadata": {},
   "outputs": [],
   "source": [
    "# Splitting the data into training and testing sets\n",
    "X_train, X_test, y_train, y_test = train_test_split(X, y, test_size=0.2, random_state=42)"
   ]
  },
  {
   "cell_type": "code",
   "execution_count": 31,
   "metadata": {},
   "outputs": [],
   "source": [
    "# Scaling the features\n",
    "scaler = StandardScaler()\n",
    "X_train_scaled = scaler.fit_transform(X_train)\n",
    "X_test_scaled = scaler.transform(X_test)"
   ]
  },
  {
   "cell_type": "code",
   "execution_count": 32,
   "metadata": {},
   "outputs": [
    {
     "data": {
      "text/html": [
       "<style>#sk-container-id-2 {color: black;background-color: white;}#sk-container-id-2 pre{padding: 0;}#sk-container-id-2 div.sk-toggleable {background-color: white;}#sk-container-id-2 label.sk-toggleable__label {cursor: pointer;display: block;width: 100%;margin-bottom: 0;padding: 0.3em;box-sizing: border-box;text-align: center;}#sk-container-id-2 label.sk-toggleable__label-arrow:before {content: \"▸\";float: left;margin-right: 0.25em;color: #696969;}#sk-container-id-2 label.sk-toggleable__label-arrow:hover:before {color: black;}#sk-container-id-2 div.sk-estimator:hover label.sk-toggleable__label-arrow:before {color: black;}#sk-container-id-2 div.sk-toggleable__content {max-height: 0;max-width: 0;overflow: hidden;text-align: left;background-color: #f0f8ff;}#sk-container-id-2 div.sk-toggleable__content pre {margin: 0.2em;color: black;border-radius: 0.25em;background-color: #f0f8ff;}#sk-container-id-2 input.sk-toggleable__control:checked~div.sk-toggleable__content {max-height: 200px;max-width: 100%;overflow: auto;}#sk-container-id-2 input.sk-toggleable__control:checked~label.sk-toggleable__label-arrow:before {content: \"▾\";}#sk-container-id-2 div.sk-estimator input.sk-toggleable__control:checked~label.sk-toggleable__label {background-color: #d4ebff;}#sk-container-id-2 div.sk-label input.sk-toggleable__control:checked~label.sk-toggleable__label {background-color: #d4ebff;}#sk-container-id-2 input.sk-hidden--visually {border: 0;clip: rect(1px 1px 1px 1px);clip: rect(1px, 1px, 1px, 1px);height: 1px;margin: -1px;overflow: hidden;padding: 0;position: absolute;width: 1px;}#sk-container-id-2 div.sk-estimator {font-family: monospace;background-color: #f0f8ff;border: 1px dotted black;border-radius: 0.25em;box-sizing: border-box;margin-bottom: 0.5em;}#sk-container-id-2 div.sk-estimator:hover {background-color: #d4ebff;}#sk-container-id-2 div.sk-parallel-item::after {content: \"\";width: 100%;border-bottom: 1px solid gray;flex-grow: 1;}#sk-container-id-2 div.sk-label:hover label.sk-toggleable__label {background-color: #d4ebff;}#sk-container-id-2 div.sk-serial::before {content: \"\";position: absolute;border-left: 1px solid gray;box-sizing: border-box;top: 0;bottom: 0;left: 50%;z-index: 0;}#sk-container-id-2 div.sk-serial {display: flex;flex-direction: column;align-items: center;background-color: white;padding-right: 0.2em;padding-left: 0.2em;position: relative;}#sk-container-id-2 div.sk-item {position: relative;z-index: 1;}#sk-container-id-2 div.sk-parallel {display: flex;align-items: stretch;justify-content: center;background-color: white;position: relative;}#sk-container-id-2 div.sk-item::before, #sk-container-id-2 div.sk-parallel-item::before {content: \"\";position: absolute;border-left: 1px solid gray;box-sizing: border-box;top: 0;bottom: 0;left: 50%;z-index: -1;}#sk-container-id-2 div.sk-parallel-item {display: flex;flex-direction: column;z-index: 1;position: relative;background-color: white;}#sk-container-id-2 div.sk-parallel-item:first-child::after {align-self: flex-end;width: 50%;}#sk-container-id-2 div.sk-parallel-item:last-child::after {align-self: flex-start;width: 50%;}#sk-container-id-2 div.sk-parallel-item:only-child::after {width: 0;}#sk-container-id-2 div.sk-dashed-wrapped {border: 1px dashed gray;margin: 0 0.4em 0.5em 0.4em;box-sizing: border-box;padding-bottom: 0.4em;background-color: white;}#sk-container-id-2 div.sk-label label {font-family: monospace;font-weight: bold;display: inline-block;line-height: 1.2em;}#sk-container-id-2 div.sk-label-container {text-align: center;}#sk-container-id-2 div.sk-container {/* jupyter's `normalize.less` sets `[hidden] { display: none; }` but bootstrap.min.css set `[hidden] { display: none !important; }` so we also need the `!important` here to be able to override the default hidden behavior on the sphinx rendered scikit-learn.org. See: https://github.com/scikit-learn/scikit-learn/issues/21755 */display: inline-block !important;position: relative;}#sk-container-id-2 div.sk-text-repr-fallback {display: none;}</style><div id=\"sk-container-id-2\" class=\"sk-top-container\"><div class=\"sk-text-repr-fallback\"><pre>LogisticRegression(max_iter=1000)</pre><b>In a Jupyter environment, please rerun this cell to show the HTML representation or trust the notebook. <br />On GitHub, the HTML representation is unable to render, please try loading this page with nbviewer.org.</b></div><div class=\"sk-container\" hidden><div class=\"sk-item\"><div class=\"sk-estimator sk-toggleable\"><input class=\"sk-toggleable__control sk-hidden--visually\" id=\"sk-estimator-id-2\" type=\"checkbox\" checked><label for=\"sk-estimator-id-2\" class=\"sk-toggleable__label sk-toggleable__label-arrow\">LogisticRegression</label><div class=\"sk-toggleable__content\"><pre>LogisticRegression(max_iter=1000)</pre></div></div></div></div></div>"
      ],
      "text/plain": [
       "LogisticRegression(max_iter=1000)"
      ]
     },
     "execution_count": 32,
     "metadata": {},
     "output_type": "execute_result"
    }
   ],
   "source": [
    "# Training a Logistic Regression model with increased max_iter\n",
    "model = LogisticRegression(max_iter=1000)\n",
    "model.fit(X_train_scaled, y_train)"
   ]
  },
  {
   "cell_type": "code",
   "execution_count": 33,
   "metadata": {},
   "outputs": [],
   "source": [
    "# Predictions\n",
    "y_pred = model.predict(X_test_scaled)"
   ]
  },
  {
   "cell_type": "code",
   "execution_count": 34,
   "metadata": {},
   "outputs": [],
   "source": [
    "# Create a DataFrame to pretty print the results\n",
    "results_df = pd.DataFrame({\n",
    "    'Features': X_test_scaled.tolist(),\n",
    "    'True Labels': y_test.tolist(),\n",
    "    'Predicted Labels': y_pred.tolist()\n",
    "})"
   ]
  },
  {
   "cell_type": "code",
   "execution_count": 35,
   "metadata": {},
   "outputs": [
    {
     "name": "stdout",
     "output_type": "stream",
     "text": [
      "         CodigoRegiao  UF  Tipo  SexoConsumidor  FaixaEtariaConsumidor  \\\n",
      "1157600             4   8     1               0                      6   \n",
      "597739              1   1     1               0                      5   \n",
      "1117229             3  17     1               1                      4   \n",
      "615814              1   4     1               0                      3   \n",
      "515265              1   9     1               0                      4   \n",
      "...               ...  ..   ...             ...                    ...   \n",
      "667133              4  12     1               1                      0   \n",
      "29867               1   1     1               1                      4   \n",
      "33711               2  10     1               1                      0   \n",
      "876795              2  10     1               0                      4   \n",
      "29935               1   1     1               1                      6   \n",
      "\n",
      "         DescCNAEPrincipal Actual_Label Predicted_Label  \n",
      "1157600                506            N               S  \n",
      "597739                 155            S               S  \n",
      "1117229                413            N               S  \n",
      "615814                 308            N               S  \n",
      "515265                 129            S               S  \n",
      "...                    ...          ...             ...  \n",
      "667133                 365            N               S  \n",
      "29867                  291            S               S  \n",
      "33711                  413            S               S  \n",
      "876795                 950            S               S  \n",
      "29935                  289            S               S  \n",
      "\n",
      "[241215 rows x 8 columns]\n"
     ]
    }
   ],
   "source": [
    "# Pretty print the input features and predicted labels\n",
    "input_data = X_test.copy()\n",
    "input_data['Actual_Label'] = y_test\n",
    "input_data['Predicted_Label'] = y_pred\n",
    "print(input_data)"
   ]
  },
  {
   "cell_type": "code",
   "execution_count": 36,
   "metadata": {},
   "outputs": [
    {
     "name": "stdout",
     "output_type": "stream",
     "text": [
      "                                                                                                                               Features  \\\n",
      "0        [1.8067415353193315, -0.7940837888983284, 0.05278629093154668, -0.9274421810633475, 0.7939124969480256, -0.010215353958780623]   \n",
      "1         [-0.8028800372029462, -1.7458500791350475, 0.05278629093154668, -0.9274421810633475, 0.2905761190680759, -1.1193763954035048]   \n",
      "2          [0.9368676778119055, 0.4296157271203103, 0.05278629093154668, 1.0065345089537876, -0.21276025881187374, -0.3040956298971263]   \n",
      "3         [-0.8028800372029462, -1.337950240462168, 0.05278629093154668, -0.9274421810633475, -0.7160966366918234, -0.6358959414404198]   \n",
      "4       [-0.8028800372029462, -0.6581171760073685, 0.05278629093154668, -0.9274421810633475, -0.21276025881187374, -1.2015364725475584]   \n",
      "...                                                                                                                                 ...   \n",
      "241210      [1.8067415353193315, -0.250217337334489, 0.05278629093154668, 1.0065345089537876, -2.2261057703316722, -0.4557757723169176]   \n",
      "241211   [-0.8028800372029462, -1.7458500791350475, 0.05278629093154668, 1.0065345089537876, -0.21276025881187374, -0.6896159918807626]   \n",
      "241212    [0.06699382030447966, -0.5221505631164087, 0.05278629093154668, 1.0065345089537876, -2.2261057703316722, -0.3040956298971263]   \n",
      "241213   [0.06699382030447966, -0.5221505631164087, 0.05278629093154668, -0.9274421810633475, -0.21276025881187374, 1.3928259634242892]   \n",
      "241214     [-0.8028800372029462, -1.7458500791350475, 0.05278629093154668, 1.0065345089537876, 0.7939124969480256, -0.6959359978149205]   \n",
      "\n",
      "       True Labels Predicted Labels  \n",
      "0                N                S  \n",
      "1                S                S  \n",
      "2                N                S  \n",
      "3                N                S  \n",
      "4                S                S  \n",
      "...            ...              ...  \n",
      "241210           N                S  \n",
      "241211           S                S  \n",
      "241212           S                S  \n",
      "241213           S                S  \n",
      "241214           S                S  \n",
      "\n",
      "[241215 rows x 3 columns]\n"
     ]
    }
   ],
   "source": [
    "# Print the results DataFrame\n",
    "pd.set_option(\"display.max_colwidth\", None)  # Display full content of cells\n",
    "print(results_df)"
   ]
  },
  {
   "cell_type": "code",
   "execution_count": 37,
   "metadata": {},
   "outputs": [
    {
     "name": "stdout",
     "output_type": "stream",
     "text": [
      "              precision    recall  f1-score   support\n",
      "\n",
      "           N       0.62      0.02      0.04     91359\n",
      "           S       0.62      0.99      0.77    149856\n",
      "\n",
      "    accuracy                           0.62    241215\n",
      "   macro avg       0.62      0.51      0.41    241215\n",
      "weighted avg       0.62      0.62      0.49    241215\n",
      "\n"
     ]
    }
   ],
   "source": [
    "# Evaluation\n",
    "report = classification_report(y_test, y_pred)\n",
    "print(report)"
   ]
  },
  {
   "cell_type": "code",
   "execution_count": 38,
   "metadata": {},
   "outputs": [
    {
     "data": {
      "text/plain": [
       "['models/binary_classification.joblib']"
      ]
     },
     "execution_count": 38,
     "metadata": {},
     "output_type": "execute_result"
    }
   ],
   "source": [
    "# dump model\n",
    "joblib.dump(model, 'models/binary_classification.joblib')"
   ]
  }
 ],
 "metadata": {
  "kernelspec": {
   "display_name": "base",
   "language": "python",
   "name": "python3"
  },
  "language_info": {
   "codemirror_mode": {
    "name": "ipython",
    "version": 3
   },
   "file_extension": ".py",
   "mimetype": "text/x-python",
   "name": "python",
   "nbconvert_exporter": "python",
   "pygments_lexer": "ipython3",
   "version": "3.10.9"
  },
  "orig_nbformat": 4
 },
 "nbformat": 4,
 "nbformat_minor": 2
}
